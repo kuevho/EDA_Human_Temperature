{
 "cells": [
  {
   "cell_type": "markdown",
   "metadata": {},
   "source": [
    "# What is the True Normal Human Body Temperature? \n",
    "\n",
    "#### Background\n",
    "\n",
    "The mean normal body temperature was held to be 37$^{\\circ}$C or 98.6$^{\\circ}$F for more than 120 years since it was first conceptualized and reported by Carl Wunderlich in a famous 1868 book. But, is this value statistically correct?"
   ]
  },
  {
   "cell_type": "markdown",
   "metadata": {},
   "source": [
    "<h3>Exercises</h3>\n",
    "\n",
    "<p>In this exercise, you will analyze a dataset of human body temperatures and employ the concepts of hypothesis testing, confidence intervals, and statistical significance.</p>\n",
    "\n",
    "<p>Answer the following questions <b>in this notebook below and submit to your Github account</b>.</p> \n",
    "\n",
    "<ol>\n",
    "<li>  Is the distribution of body temperatures normal? \n",
    "    <ul>\n",
    "    <li> Although this is not a requirement for the Central Limit Theorem to hold (read the introduction on Wikipedia's page about the CLT carefully: https://en.wikipedia.org/wiki/Central_limit_theorem), it gives us some peace of mind that the population may also be normally distributed if we assume that this sample is representative of the population.\n",
    "    <li> Think about the way you're going to check for the normality of the distribution. Graphical methods are usually used first, but there are also other ways: https://en.wikipedia.org/wiki/Normality_test\n",
    "    </ul>\n",
    "<li>  Is the sample size large? Are the observations independent?\n",
    "    <ul>\n",
    "    <li> Remember that this is a condition for the Central Limit Theorem, and hence the statistical tests we are using, to apply.\n",
    "    </ul>\n",
    "<li>  Is the true population mean really 98.6 degrees F?\n",
    "    <ul>\n",
    "    <li> First, try a bootstrap hypothesis test.\n",
    "    <li> Now, let's try frequentist statistical testing. Would you use a one-sample or two-sample test? Why?\n",
    "    <li> In this situation, is it appropriate to use the $t$ or $z$ statistic? \n",
    "    <li> Now try using the other test. How is the result be different? Why?\n",
    "    </ul>\n",
    "<li>  Draw a small sample of size 10 from the data and repeat both frequentist tests. \n",
    "    <ul>\n",
    "    <li> Which one is the correct one to use? \n",
    "    <li> What do you notice? What does this tell you about the difference in application of the $t$ and $z$ statistic?\n",
    "    </ul>\n",
    "<li>  At what temperature should we consider someone's temperature to be \"abnormal\"?\n",
    "    <ul>\n",
    "    <li> As in the previous example, try calculating everything using the boostrap approach, as well as the frequentist approach.\n",
    "    <li> Start by computing the margin of error and confidence interval. When calculating the confidence interval, keep in mind that you should use the appropriate formula for one draw, and not N draws.\n",
    "    </ul>\n",
    "<li>  Is there a significant difference between males and females in normal temperature?\n",
    "    <ul>\n",
    "    <li> What testing approach did you use and why?\n",
    "    <li> Write a story with your conclusion in the context of the original problem.\n",
    "    </ul>\n",
    "</ol>\n",
    "\n",
    "You can include written notes in notebook cells using Markdown: \n",
    "   - In the control panel at the top, choose Cell > Cell Type > Markdown\n",
    "   - Markdown syntax: http://nestacms.com/docs/creating-content/markdown-cheat-sheet\n",
    "\n",
    "#### Resources\n",
    "\n",
    "+ Information and data sources: http://www.amstat.org/publications/jse/datasets/normtemp.txt, http://www.amstat.org/publications/jse/jse_data_archive.htm\n",
    "+ Markdown syntax: http://nestacms.com/docs/creating-content/markdown-cheat-sheet\n",
    "\n",
    "****"
   ]
  },
  {
   "cell_type": "code",
   "execution_count": 3,
   "metadata": {},
   "outputs": [],
   "source": [
    "import pandas as pd\n",
    "\n",
    "df = pd.read_csv('data/human_body_temperature.csv')"
   ]
  },
  {
   "cell_type": "code",
   "execution_count": 4,
   "metadata": {},
   "outputs": [],
   "source": [
    "# Your work here.\n",
    "import numpy as np\n",
    "import matplotlib.pyplot as plt\n",
    "import seaborn as sns"
   ]
  },
  {
   "cell_type": "code",
   "execution_count": 5,
   "metadata": {},
   "outputs": [
    {
     "data": {
      "text/html": [
       "<div>\n",
       "<style scoped>\n",
       "    .dataframe tbody tr th:only-of-type {\n",
       "        vertical-align: middle;\n",
       "    }\n",
       "\n",
       "    .dataframe tbody tr th {\n",
       "        vertical-align: top;\n",
       "    }\n",
       "\n",
       "    .dataframe thead th {\n",
       "        text-align: right;\n",
       "    }\n",
       "</style>\n",
       "<table border=\"1\" class=\"dataframe\">\n",
       "  <thead>\n",
       "    <tr style=\"text-align: right;\">\n",
       "      <th></th>\n",
       "      <th>temperature</th>\n",
       "      <th>gender</th>\n",
       "      <th>heart_rate</th>\n",
       "    </tr>\n",
       "  </thead>\n",
       "  <tbody>\n",
       "    <tr>\n",
       "      <th>0</th>\n",
       "      <td>99.3</td>\n",
       "      <td>F</td>\n",
       "      <td>68.0</td>\n",
       "    </tr>\n",
       "    <tr>\n",
       "      <th>1</th>\n",
       "      <td>98.4</td>\n",
       "      <td>F</td>\n",
       "      <td>81.0</td>\n",
       "    </tr>\n",
       "    <tr>\n",
       "      <th>2</th>\n",
       "      <td>97.8</td>\n",
       "      <td>M</td>\n",
       "      <td>73.0</td>\n",
       "    </tr>\n",
       "    <tr>\n",
       "      <th>3</th>\n",
       "      <td>99.2</td>\n",
       "      <td>F</td>\n",
       "      <td>66.0</td>\n",
       "    </tr>\n",
       "    <tr>\n",
       "      <th>4</th>\n",
       "      <td>98.0</td>\n",
       "      <td>F</td>\n",
       "      <td>73.0</td>\n",
       "    </tr>\n",
       "  </tbody>\n",
       "</table>\n",
       "</div>"
      ],
      "text/plain": [
       "   temperature gender  heart_rate\n",
       "0         99.3      F        68.0\n",
       "1         98.4      F        81.0\n",
       "2         97.8      M        73.0\n",
       "3         99.2      F        66.0\n",
       "4         98.0      F        73.0"
      ]
     },
     "execution_count": 5,
     "metadata": {},
     "output_type": "execute_result"
    }
   ],
   "source": [
    "df.head()"
   ]
  },
  {
   "cell_type": "code",
   "execution_count": 6,
   "metadata": {},
   "outputs": [],
   "source": [
    "df_temp = df['temperature']\n",
    "df_hr = df['heart_rate']"
   ]
  },
  {
   "cell_type": "markdown",
   "metadata": {},
   "source": [
    "Question 1: Is the distribution of body temperatures normal?\n",
    "Question 2: Is the sample size large? Are the observations independent?\n",
    "\n",
    "Central Limit Theorem = distribution of averages will closely approximate a normal distribution when number of observations is sufficiently large, generally >30."
   ]
  },
  {
   "cell_type": "code",
   "execution_count": 7,
   "metadata": {},
   "outputs": [
    {
     "name": "stdout",
     "output_type": "stream",
     "text": [
      "The average temp is: 98.24923076923078\n",
      "The standard deviation of temp is: 0.7303577789050377\n",
      "The length of temp data is: 130\n"
     ]
    }
   ],
   "source": [
    "temp_mean = np.mean(df_temp)\n",
    "temp_std = np.std(df_temp)\n",
    "temp_len = len(df_temp)\n",
    "\n",
    "print('The average temp is:', temp_mean)\n",
    "print('The standard deviation of temp is:', temp_std)\n",
    "print('The length of temp data is:', temp_len)"
   ]
  },
  {
   "cell_type": "markdown",
   "metadata": {},
   "source": [
    "# The sample size is indeed large, at 130 total, which is >30. Observations are also independent since they were taken from different individuals. "
   ]
  },
  {
   "cell_type": "code",
   "execution_count": 8,
   "metadata": {},
   "outputs": [
    {
     "data": {
      "image/png": "[encoded data removed]",
      "text/plain": [
       "<Figure size 432x288 with 1 Axes>"
      ]
     },
     "metadata": {
      "needs_background": "light"
     },
     "output_type": "display_data"
    }
   ],
   "source": [
    "#plot temperature histogram to see if normally distributed\n",
    "plt.hist(df_temp, density=True, bins=15)\n",
    "plt.xlabel('Temperature')\n",
    "plt.title('Temperature Data')\n",
    "plt.show()"
   ]
  },
  {
   "cell_type": "markdown",
   "metadata": {},
   "source": [
    "The parent temperature data looks normally distributed, but the central limit theorem says 'distribution of averages'. Since I've established that the sample size is >30, this means that I can treat the temperature mean as normal distribution. \n",
    "\n",
    "Next, I generate a random normal distribution of the temp mean and standard deviation."
   ]
  },
  {
   "cell_type": "code",
   "execution_count": 9,
   "metadata": {},
   "outputs": [
    {
     "data": {
      "image/png": "[encoded data removed]",
      "text/plain": [
       "<Figure size 432x288 with 1 Axes>"
      ]
     },
     "metadata": {
      "needs_background": "light"
     },
     "output_type": "display_data"
    }
   ],
   "source": [
    "temp_norm = np.random.normal(temp_mean, temp_std, 130)\n",
    "_ = plt.hist(temp_norm, density=True, bins=15)\n",
    "_ = plt.xlabel('temperature')\n",
    "_ = plt.title('Random Temperature')\n",
    "plt.show()"
   ]
  },
  {
   "cell_type": "code",
   "execution_count": 10,
   "metadata": {},
   "outputs": [
    {
     "name": "stdout",
     "output_type": "stream",
     "text": [
      "(96.05815743251567, 100.44030410594588)\n"
     ]
    }
   ],
   "source": [
    "normal_range = (temp_mean-3*temp_std, temp_mean+3*temp_std)\n",
    "print(normal_range)"
   ]
  },
  {
   "cell_type": "markdown",
   "metadata": {},
   "source": [
    "# Yes, the body temperature is normally distributed.\n",
    "The histogram of temperature averages have the signature bell-curve and the normal range shows that the range of temperature mean is within 3sd."
   ]
  },
  {
   "cell_type": "markdown",
   "metadata": {},
   "source": [
    "Question 3: Is the true population mean really 98.6 degrees F?\n",
    "\n",
    "Null hypothesis: the true population mean is 98.6 degrees F"
   ]
  },
  {
   "cell_type": "code",
   "execution_count": 11,
   "metadata": {},
   "outputs": [],
   "source": [
    "def bootstrap_replicate_1d(data, func):\n",
    "    return func(np.random.choice(data, size=len(data)))\n",
    "\n",
    "def draw_bs_reps(data, func, size=1):\n",
    "    \"\"\"Generate bootstrap replicates.\"\"\"\n",
    "\n",
    "    # Initialize array of replicates: bs_replicates\n",
    "    bs_replicates = np.empty(size)\n",
    "\n",
    "    for i in range(size):\n",
    "        # Generate replicate sample\n",
    "        bs_replicates[i] = bootstrap_replicate_1d(data, func)\n",
    "\n",
    "    return bs_replicates"
   ]
  },
  {
   "cell_type": "code",
   "execution_count": 12,
   "metadata": {},
   "outputs": [
    {
     "name": "stdout",
     "output_type": "stream",
     "text": [
      "0.06405661469519336\n",
      "0.06398920576386274\n",
      "[98.08615385 98.40923077]\n",
      "P value: 0.0\n"
     ]
    },
    {
     "data": {
      "image/png": "[encoded data removed]",
      "text/plain": [
       "<Figure size 432x288 with 1 Axes>"
      ]
     },
     "metadata": {
      "needs_background": "light"
     },
     "output_type": "display_data"
    }
   ],
   "source": [
    "#Take 10000 bootstrap replicates of the mean: bs_replicates\n",
    "bs_replicates = draw_bs_reps(df_temp, np.mean, 10000)\n",
    "\n",
    "#calculate and print SEM\n",
    "sem = np.std(df_temp) / np.sqrt(len(df_temp))\n",
    "print(sem)\n",
    "\n",
    "#calculate and print std of bootstrap replicates\n",
    "bs_std = np.std(bs_replicates)\n",
    "print(bs_std)\n",
    "\n",
    "#calculate 99% confidence interval of temperature\n",
    "bs_CI = np.percentile(bs_replicates, [0.5, 99.5])\n",
    "print(bs_CI)\n",
    "\n",
    "#find probability of temperature greater than 98.6 degrees f\n",
    "p = np.sum(bs_replicates >= 98.6)/len(bs_replicates)\n",
    "print('P value:', p)\n",
    "\n",
    "#histogram of results\n",
    "_ = plt.hist(bs_replicates, bins=100, density=True)\n",
    "_ = plt.xlabel('temperature')\n",
    "_ = plt.ylabel('PDF')\n",
    "plt.show()"
   ]
  },
  {
   "cell_type": "markdown",
   "metadata": {},
   "source": [
    "Bootstrap hypothesis testing reveals that the p-value <0.5 and the true temperature mean is between 98.1 and 98.4, which is less than 98.6. From this testing, we can conclude that the null hypothesis is incorrect."
   ]
  },
  {
   "cell_type": "markdown",
   "metadata": {},
   "source": [
    "Next, I use one sample hypothesis testing to determine if my null hypothesis is true or not. One sample hypothesis test is used here because I am comparing the sample data to a single temperature data"
   ]
  },
  {
   "cell_type": "code",
   "execution_count": 13,
   "metadata": {},
   "outputs": [
    {
     "name": "stdout",
     "output_type": "stream",
     "text": [
      "p =  0.0\n"
     ]
    }
   ],
   "source": [
    "#set temperature mean by 98.6\n",
    "temp_set = df_temp-np.mean(df_temp)+98.6\n",
    "\n",
    "#take replicates of set temperatures: bs_replicates\n",
    "bs_replicates = draw_bs_reps(temp_set, np.mean, 10000)\n",
    "\n",
    "#calculate p-value\n",
    "p = np.sum(bs_replicates <= np.mean(df_temp))/10000\n",
    "print('p = ', p)"
   ]
  },
  {
   "cell_type": "markdown",
   "metadata": {},
   "source": [
    "The one sample hypothesis test also reveals a p value <0.5, indicating that 98.6 degrees F is not likely to be the true mean temperature. \n",
    "\n",
    "This can also be examined using t-statistics due to the sample size being not too large."
   ]
  },
  {
   "cell_type": "markdown",
   "metadata": {},
   "source": [
    "Question 4: Draw a small sample of size 10 from the data and repeat both frequentist tests\n",
    "\n",
    "Which one is the correct one to use?\n",
    "What do you notice? What does this tell you about the difference in application of the  t  and  z  statistic?"
   ]
  },
  {
   "cell_type": "code",
   "execution_count": 14,
   "metadata": {},
   "outputs": [],
   "source": [
    "sample = np.random.choice(df_temp, size=10)"
   ]
  },
  {
   "cell_type": "code",
   "execution_count": 19,
   "metadata": {},
   "outputs": [
    {
     "name": "stdout",
     "output_type": "stream",
     "text": [
      "0.3065941943351179\n",
      "0.2286591349585683\n",
      "[97.75665 98.5955 ]\n",
      "P value: 0.1\n"
     ]
    },
    {
     "data": {
      "image/png": "[encoded data removed]",
      "text/plain": [
       "<Figure size 432x288 with 1 Axes>"
      ]
     },
     "metadata": {
      "needs_background": "light"
     },
     "output_type": "display_data"
    }
   ],
   "source": [
    "#bootstrap testing\n",
    "#Take 10 bootstrap replicates of the mean: bs_replicates\n",
    "bs_replicates = draw_bs_reps(sample, np.mean, 10)\n",
    "\n",
    "#calculate and print SEM\n",
    "sem = np.std(sample) / np.sqrt(len(sample))\n",
    "print(sem)\n",
    "\n",
    "#calculate and print std of bootstrap replicates\n",
    "bs_std = np.std(bs_replicates)\n",
    "print(bs_std)\n",
    "\n",
    "#calculate 99% confidence interval of temperature\n",
    "bs_CI = np.percentile(bs_replicates, [0.5, 99.5])\n",
    "print(bs_CI)\n",
    "\n",
    "#find probability of temperature greater than 98.6 degrees f\n",
    "p = np.sum(bs_replicates >= 98.6)/len(bs_replicates)\n",
    "print('P value:', p)\n",
    "\n",
    "#histogram of results\n",
    "_ = plt.hist(bs_replicates, density=True)\n",
    "_ = plt.xlabel('temperature')\n",
    "_ = plt.ylabel('PDF')\n",
    "plt.show()"
   ]
  },
  {
   "cell_type": "code",
   "execution_count": 18,
   "metadata": {},
   "outputs": [
    {
     "name": "stdout",
     "output_type": "stream",
     "text": [
      "p =  0.0\n"
     ]
    }
   ],
   "source": [
    "#set temperature mean by 98.6\n",
    "temp_set = df_temp-np.mean(df_temp)+98.6\n",
    "\n",
    "#take replicates of set temperatures: bs_replicates\n",
    "bs_replicates = draw_bs_reps(temp_set, np.mean, 10)\n",
    "\n",
    "#calculate p-value\n",
    "p = np.sum(bs_replicates <= np.mean(df_temp))/10\n",
    "print('p = ', p)"
   ]
  },
  {
   "cell_type": "markdown",
   "metadata": {},
   "source": [
    "The p-value increased with the bootstrap approach 0.0 to 0.1; whereas the one sample testing remained at 0.0. For such a small sample size, t-test needs to used."
   ]
  },
  {
   "cell_type": "markdown",
   "metadata": {},
   "source": [
    "Question 5: At what temperature should we consider someone's temperature to be \"abnormal\"?\n",
    "As in the previous example, try calculating everything using the boostrap approach, as well as the frequentist approach.\n",
    "Start by computing the margin of error and confidence interval. When calculating the confidence interval, keep in mind that you should use the appropriate formula for one draw, and not N draws."
   ]
  },
  {
   "cell_type": "code",
   "execution_count": 36,
   "metadata": {},
   "outputs": [
    {
     "name": "stdout",
     "output_type": "stream",
     "text": [
      "Normal temperature range with 95% confidence is: 96.77444 to 99.581795\n",
      "margin of error =  0.12683209709648285\n"
     ]
    }
   ],
   "source": [
    "#calculate population of statistics using bootstrap\n",
    "def bs_rep_ci(data, perc, size=1):\n",
    "    \n",
    "    \"\"\"Generate replicates for each end\"\"\"\n",
    "    bs_rep_start = np.empty(size)\n",
    "    bs_rep_end = np.empty(size)\n",
    "#set start and end at 50% each\n",
    "    start = (100-perc)/2\n",
    "    end = perc+(100-perc)/2\n",
    "    \n",
    "    for i in range(size):\n",
    "        bs_data = np.random.choice(data, size=len(data))\n",
    "        bs_rep_start[i], bs_rep_end[i] = np.percentile(bs_data, [start, end])\n",
    "        \n",
    "    return bs_rep_start, bs_rep_end\n",
    "\n",
    "#take 10000 replicates of the sample: bs_rep_ci\n",
    "bs_rep_start, bs_rep_end = bs_rep_ci(df_temp, 95, 1000)\n",
    "print('Normal temperature range with 95% confidence is:', np.mean(bs_rep_start), 'to', np.mean(bs_rep_end))\n",
    "\n",
    "#calculate margin of error\n",
    "temp_stdv = np.std(df_temp)\n",
    "\n",
    "#use t value at 95% CI from t-table:1.98\n",
    "t = 1.98\n",
    "margin_of_error=t*(temp_stdv/np.sqrt(len(df_temp)))\n",
    "print('margin of error = ', margin_of_error)"
   ]
  },
  {
   "cell_type": "code",
   "execution_count": 26,
   "metadata": {},
   "outputs": [
    {
     "name": "stdout",
     "output_type": "stream",
     "text": [
      "95% confidence interval =  96.8031223669988 99.69533917146275\n"
     ]
    }
   ],
   "source": [
    "#calculate confidence interval from frequentist method\n",
    "start = temp_mean - t * temp_std\n",
    "end = temp_mean + t * temp_std\n",
    "print('95% confidence interval = ', start, end)"
   ]
  },
  {
   "cell_type": "markdown",
   "metadata": {},
   "source": [
    "# The normal temperature is between 96.8 and 99.6; anything not within that range is considered abnormal"
   ]
  },
  {
   "cell_type": "markdown",
   "metadata": {},
   "source": [
    "Question 6: Is there a significant difference between males and females in normal temperature?\n",
    "What testing approach did you use and why?\n",
    "Write a story with your conclusion in the context of the original problem."
   ]
  },
  {
   "cell_type": "code",
   "execution_count": 43,
   "metadata": {},
   "outputs": [],
   "source": [
    "temp_m = df[df['gender']=='M'].temperature\n",
    "temp_f = df[df['gender']=='F'].temperature"
   ]
  },
  {
   "cell_type": "code",
   "execution_count": 45,
   "metadata": {},
   "outputs": [
    {
     "data": {
      "image/png": "[encoded data removed]",
      "text/plain": [
       "<Figure size 432x288 with 1 Axes>"
      ]
     },
     "metadata": {
      "needs_background": "light"
     },
     "output_type": "display_data"
    }
   ],
   "source": [
    "def ecdf(data):\n",
    "    \"\"\"Compute ECDF for a one-dimensional array of measurements.\"\"\"\n",
    "    # Number of data points: n\n",
    "    n = len(data)\n",
    "\n",
    "    # x-data for the ECDF: x\n",
    "    x = np.sort(data)\n",
    "\n",
    "    # y-data for the ECDF: y\n",
    "    y = np.arange(1, n+1) / n\n",
    "\n",
    "    return x, y\n",
    "\n",
    "x_m, y_m = ecdf(temp_m)\n",
    "x_f, y_f = ecdf(temp_f)\n",
    "\n",
    "_ = plt.plot(x_m, y_m, marker='.', linestyle='none', color='blue')\n",
    "_ = plt.plot(x_f, y_f, marker='.', linestyle='none', color='red')\n",
    "_ = plt.xlabel('temperature (C)')\n",
    "_ = plt.ylabel('ECDF')\n",
    "_ = plt.legend(['male','female'])\n",
    "plt.show()"
   ]
  },
  {
   "cell_type": "markdown",
   "metadata": {},
   "source": [
    "The ecdf plot visually shows a difference in the distribution of males and females.\n",
    "\n",
    "From here I'll use the permutation then two sample t-test to determine if the null hypothesis is true. I used permutation and two sample t-test because there are two separate data sets. \n",
    "\n",
    "Null hypothesis: females have the same normal body temperature males do"
   ]
  },
  {
   "cell_type": "code",
   "execution_count": 46,
   "metadata": {},
   "outputs": [],
   "source": [
    "def permutation_sample(data1, data2):\n",
    "    \"\"\"Generate a permutation sample from two data sets.\"\"\"\n",
    "\n",
    "    # Concatenate the data sets: data\n",
    "    data = np.concatenate([data1, data2])\n",
    "\n",
    "    # Permute the concatenated array: permuted_data\n",
    "    permuted_data = np.random.permutation(data)\n",
    "\n",
    "    # Split the permuted array into two: perm_sample_1, perm_sample_2\n",
    "    perm_sample_1 = permuted_data[:len(data1)]\n",
    "    perm_sample_2 = permuted_data[len(data1):]\n",
    "\n",
    "    return perm_sample_1, perm_sample_2"
   ]
  },
  {
   "cell_type": "code",
   "execution_count": 47,
   "metadata": {},
   "outputs": [],
   "source": [
    "def draw_perm_reps(data_1, data_2, func, size=1):\n",
    "    \"\"\"Generate multiple permutation replicates.\"\"\"\n",
    "\n",
    "    # Initialize array of replicates: perm_replicates\n",
    "    perm_replicates = np.empty(size)\n",
    "\n",
    "    for i in range(size):\n",
    "        # Generate permutation sample\n",
    "        perm_sample_1, perm_sample_2 = permutation_sample(data_1, data_2)\n",
    "\n",
    "        # Compute the test statistic\n",
    "        perm_replicates[i] = func(perm_sample_1, perm_sample_2)\n",
    "\n",
    "    return perm_replicates"
   ]
  },
  {
   "cell_type": "code",
   "execution_count": 50,
   "metadata": {},
   "outputs": [
    {
     "name": "stdout",
     "output_type": "stream",
     "text": [
      "p-value = 0.0138\n"
     ]
    }
   ],
   "source": [
    "def diff_of_means(data_1, data_2):\n",
    "    \"\"\"Difference in means of two arrays.\"\"\"\n",
    "\n",
    "    # The difference of means of data_1, data_2: diff\n",
    "    diff = np.mean(data_1)-np.mean(data_2)\n",
    "\n",
    "    return diff\n",
    "\n",
    "# Compute difference of mean impact force from experiment: empirical_diff_means\n",
    "empirical_diff_means = diff_of_means(temp_f, temp_m)\n",
    "\n",
    "# Draw 10,000 permutation replicates: perm_replicates\n",
    "perm_replicates = draw_perm_reps(temp_f, temp_m,\n",
    "                                 diff_of_means, size=10000)\n",
    "\n",
    "# Compute p-value: p\n",
    "p = np.sum(perm_replicates >= empirical_diff_means) / len(perm_replicates)\n",
    "\n",
    "# Print the result\n",
    "print('p-value =', p)"
   ]
  },
  {
   "cell_type": "code",
   "execution_count": 52,
   "metadata": {},
   "outputs": [
    {
     "name": "stdout",
     "output_type": "stream",
     "text": [
      "t statistics: 2.3032202891940123\n"
     ]
    }
   ],
   "source": [
    "#two sample t-test\n",
    "temp_f_mean = np.mean(temp_f)\n",
    "temp_f_std = np.std(temp_f)\n",
    "nf = len(temp_f)\n",
    "\n",
    "temp_m_mean = np.mean(temp_m)\n",
    "temp_m_std = np.std(temp_m)\n",
    "nm = len(temp_m)\n",
    "\n",
    "t = (temp_f_mean-temp_m_mean) / np.sqrt(((temp_f_std**2)/nf)+((temp_m_std**2)/nm))\n",
    "print('t statistics:', t)"
   ]
  },
  {
   "cell_type": "markdown",
   "metadata": {},
   "source": [
    "From the t-table we see that a t value of 2.3 gives a p-value of 0.01-0.025. This p-value agrees with the permutation method above. Since is it less than 0.5, we can reject the null hypothesis and conclude:"
   ]
  },
  {
   "cell_type": "markdown",
   "metadata": {},
   "source": [
    "# The female body temperature is different from the male body temperature."
   ]
  },
  {
   "cell_type": "markdown",
   "metadata": {},
   "source": [
    "# Conclusion\n",
    "\n",
    "From the EDA above we found that the true normal body temperature range is between 96.8 - 99.6 with a 95% confidence. As we test Carl Wunderlich claim that the true normal body temperature is 98.6, we found that the alternate true normal temperature is actually between 98.1-98.4. With a p-value of 0.1, we rejected Wunderlich's hypothesis. "
   ]
  }
 ],
 "metadata": {
  "kernelspec": {
   "display_name": "Python 3",
   "language": "python",
   "name": "python3"
  },
  "language_info": {
   "codemirror_mode": {
    "name": "ipython",
    "version": 3
   },
   "file_extension": ".py",
   "mimetype": "text/x-python",
   "name": "python",
   "nbconvert_exporter": "python",
   "pygments_lexer": "ipython3",
   "version": "3.7.0"
  }
 },
 "nbformat": 4,
 "nbformat_minor": 1
}
